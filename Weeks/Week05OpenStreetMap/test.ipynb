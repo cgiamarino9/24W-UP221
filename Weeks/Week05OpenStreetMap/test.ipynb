{
 "cells": [
  {
   "cell_type": "markdown",
   "id": "0a0f315c-01de-40a6-bc13-da5cbec0b7ae",
   "metadata": {},
   "source": [
    "# This is a test push"
   ]
  },
  {
   "cell_type": "code",
   "execution_count": 1,
   "id": "40bb147f-e861-433b-8f78-9caff16db69a",
   "metadata": {},
   "outputs": [
    {
     "name": "stdout",
     "output_type": "stream",
     "text": [
      "test assignment push\n"
     ]
    }
   ],
   "source": [
    "print('test assignment push')"
   ]
  },
  {
   "cell_type": "code",
   "execution_count": null,
   "id": "26441d09-2c94-4ba6-8fe3-cf4b461a6128",
   "metadata": {},
   "outputs": [],
   "source": []
  }
 ],
 "metadata": {
  "kernelspec": {
   "display_name": "Python 3 (ipykernel)",
   "language": "python",
   "name": "python3"
  },
  "language_info": {
   "codemirror_mode": {
    "name": "ipython",
    "version": 3
   },
   "file_extension": ".py",
   "mimetype": "text/x-python",
   "name": "python",
   "nbconvert_exporter": "python",
   "pygments_lexer": "ipython3",
   "version": "3.11.7"
  }
 },
 "nbformat": 4,
 "nbformat_minor": 5
}
