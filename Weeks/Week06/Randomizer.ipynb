{
 "cells": [
  {
   "cell_type": "markdown",
   "id": "6fe2d959-4b78-4334-a81e-d0f956226973",
   "metadata": {},
   "source": [
    "# Randomizer\n",
    "\n",
    "Who goes first? Let's roll the python dice..."
   ]
  },
  {
   "cell_type": "code",
   "execution_count": null,
   "id": "74b15397-787f-4269-85c8-fa3f905233e4",
   "metadata": {},
   "outputs": [],
   "source": [
    "import pandas as pd\n",
    "pd.set_option('display.max_colwidth', None)"
   ]
  },
  {
   "cell_type": "code",
   "execution_count": null,
   "id": "b7140473-71e2-4bc9-942d-f8c3d7b21fff",
   "metadata": {},
   "outputs": [],
   "source": [
    "# Create a data list of students and topics\n",
    "students = [\n",
    "['Fair Housing','Victor Tran, Chase Engelhardt, Shweta Sundar, Christine Bustillos'],\n",
    "['Food Access in the City of Washington D.C.','Emily Biro, Christopher Do, Brittney Lu, Rachel Seiberg'],\n",
    "['Success of Vision Zero','Jessica Lopez, Joanny Leyva, Rebecca Saavedra Swint, Genevieve Chacon'],\n",
    "['Real-time info - AC Transit Oakland','Purva Kapshikar, Hamzah Yaacob, Jackson Zeng'],\n",
    "['Citations in Public Space','Erick Grasa, Iris Craige, Zoe Frumin, Greer Cowan'],\n",
    "['Visualizing and Indexing Structural Racism in Los Angeles','John Parks, Joshua Claxton, Miles Cressy'],\n",
    "['Mapping Mobility for Care Workers in LA','Maya Deshpande, Elizabeth Greenfield, Sophie Frank, Adam Lipsey'],\n",
    "['Water Group','Hannah Chun, Matthew Aijala, Charlotte Sofranek, Aron Walker'],\n",
    "['Identifying Gaps in Transit Access to Grocery Stores for LA Senior Citizens','Lucy Briggs, Adriana Ochoa, Carolyn Pugh, Monisha Reginald'],\n",
    "['A Legacy of Racism, Redlining & Health Inequities in San Francisco','Dayoung Lee, Quinn Haaga, Tommy Chandler, Rachel Kovinsky'],\n",
    "['LA Chinatown','Dominique Ong, Jiaqi Li, Alyssa Suzukawa, Brian Kohaya, Clara Fuchshuber'],\n",
    "['Environmental and Health Impacts of Warehouses in Ontario, California','Yu-Chen/Jennifer Chu, Georgie Suico, Alejandra Rios, Matthews Cribioli'],\n",
    "['Success of Vision Zero','Joanny Levya, Jessica Lopez, Genevieve Chacon, Rebecca Saavedra Swint'],\n",
    "['Extreme Heat in Los Angeles City','Miguel Miguel, Michelle Gallarza, Amanda Gormsen, and Mariana Estrada'],\n",
    "['Logan Triangle: Health, History, and Home in Philadelphia','Angela, Cassie, Corinne, Deja, Lindsey, Olivia'],\n",
    "['Salton Sea Environmental Disaster','Maggie Sea, Tiffany Rivera, Miriam Bar-Zemer, Seth Reichert'],\n",
    "['Environmental Justice in Kern County: The Effects of Oil Drilling Operations on Communities','Nick Stewart-Boch, Melody Ng, Dinah Dominguez, Yesenia Becerra']\n",
    "\n",
    "]"
   ]
  },
  {
   "cell_type": "code",
   "execution_count": null,
   "id": "b25c64e1-4aa9-483e-be04-0e5513ef29eb",
   "metadata": {},
   "outputs": [],
   "source": [
    "# add the students to a dataframe\n",
    "df = pd.DataFrame(students, columns=['Topic','Students'])\n",
    "  \n",
    "# print dataframe.\n",
    "df"
   ]
  },
  {
   "cell_type": "code",
   "execution_count": null,
   "id": "dfc63d9c-d422-427b-a3f1-f4272718de45",
   "metadata": {},
   "outputs": [],
   "source": [
    "# this randomizes the data using .sample\n",
    "# frac stands for fraction of the data to return, \n",
    "# so frac=1 means to return every row\n",
    "df = df.sample(frac=1).reset_index(drop=True)"
   ]
  },
  {
   "attachments": {},
   "cell_type": "markdown",
   "id": "863fd6cc",
   "metadata": {},
   "source": [
    "![drum roll](drum.gif)"
   ]
  },
  {
   "cell_type": "code",
   "execution_count": null,
   "id": "d268e2db-5bef-46dc-aa66-672d336c9ff4",
   "metadata": {},
   "outputs": [],
   "source": [
    "df"
   ]
  },
  {
   "cell_type": "code",
   "execution_count": null,
   "id": "fc9f2fce-45fc-4fd9-888b-122c43b00c58",
   "metadata": {},
   "outputs": [],
   "source": [
    "# But wait, one group needs to go first, so let's add them to the top\n",
    "must_go_first = pd.DataFrame({\n",
    "    'Topic':'Environmental and Health Impacts of Warehouses in Ontario, California',\n",
    "    'Students':'Yu-Chen/Jennifer Chu, Georgie Suico, Alejandra Rios, Matthews Cribioli'\n",
    "},index=[0])\n",
    "\n",
    "df=pd.concat([must_go_first,df]).reset_index(drop=True)\n",
    "df"
   ]
  },
  {
   "cell_type": "code",
   "execution_count": null,
   "id": "cc81a91f",
   "metadata": {},
   "outputs": [],
   "source": []
  }
 ],
 "metadata": {
  "kernelspec": {
   "display_name": "geos",
   "language": "python",
   "name": "python3"
  },
  "language_info": {
   "codemirror_mode": {
    "name": "ipython",
    "version": 3
   },
   "file_extension": ".py",
   "mimetype": "text/x-python",
   "name": "python",
   "nbconvert_exporter": "python",
   "pygments_lexer": "ipython3",
   "version": "3.11.0"
  },
  "vscode": {
   "interpreter": {
    "hash": "a6f97620323956135125d97ca3cfa81b2e752106e2996f191eab2ef4078f4063"
   }
  }
 },
 "nbformat": 4,
 "nbformat_minor": 5
}
